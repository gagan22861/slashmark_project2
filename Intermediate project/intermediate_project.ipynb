{
 "cells": [
  {
   "cell_type": "code",
   "execution_count": 7,
   "id": "b1b33b82",
   "metadata": {},
   "outputs": [
    {
     "name": "stdout",
     "output_type": "stream",
     "text": [
      "Hello\n"
     ]
    }
   ],
   "source": [
    "print(\"Hello\")\n"
   ]
  },
  {
   "cell_type": "code",
   "execution_count": 8,
   "id": "ac9be8d6",
   "metadata": {},
   "outputs": [
    {
     "name": "stdout",
     "output_type": "stream",
     "text": [
      "['Alice Jones', 'Eva Miller', 'Alice Johnson', 'Eva Jones', 'Bob Miller', 'John Miller', 'Alice Miller', 'Bob Miller', 'Eva Smith', 'Bob Johnson']\n"
     ]
    }
   ],
   "source": [
    "import random\n",
    "\n",
    "\n",
    "first_names = [\"John\", \"Alice\", \"Bob\", \"Eva\"]\n",
    "last_names = [\"Smith\", \"Johnson\", \"Miller\", \"Jones\"]\n",
    "\n",
    "\n",
    "random_names = [random.choice(first_names) + \" \" + random.choice(last_names) for _ in range(10)]\n",
    "\n",
    "\n",
    "print(random_names)\n"
   ]
  },
  {
   "cell_type": "code",
   "execution_count": 9,
   "id": "1706387e",
   "metadata": {},
   "outputs": [],
   "source": [
    "import mysql.connector"
   ]
  },
  {
   "cell_type": "code",
   "execution_count": null,
   "id": "328000c6",
   "metadata": {},
   "outputs": [],
   "source": [
    "db_config = {\n",
    "    \"host\": \"DESKTOP-CJH229F\",\n",
    "    \"user\": \"root\",\n",
    "    \"password\": \"slash\",\n",
    "    \"database\": \"slashmark1\",\n",
    "}\n",
    "\n",
    "\n",
    "connection = mysql.connector.connect(**db_config)\n",
    "\n",
    "\n",
    "cursor = connection.cursor()\n",
    "\n",
    "\n",
    "query = \"SELECT * FROM your_table WHERE your_condition;\"\n",
    "\n",
    "\n",
    "cursor.execute(query)\n",
    "\n",
    "\n",
    "results = cursor.fetchall()\n",
    "\n",
    "\n",
    "for row in results:\n",
    "    print(row)\n",
    "\n",
    "\n",
    "cursor.close()\n",
    "connection.close()\n"
   ]
  },
  {
   "cell_type": "code",
   "execution_count": null,
   "id": "691cc053",
   "metadata": {},
   "outputs": [],
   "source": []
  }
 ],
 "metadata": {
  "kernelspec": {
   "display_name": "Python 3 (ipykernel)",
   "language": "python",
   "name": "python3"
  },
  "language_info": {
   "codemirror_mode": {
    "name": "ipython",
    "version": 3
   },
   "file_extension": ".py",
   "mimetype": "text/x-python",
   "name": "python",
   "nbconvert_exporter": "python",
   "pygments_lexer": "ipython3",
   "version": "3.11.5"
  }
 },
 "nbformat": 4,
 "nbformat_minor": 5
}
